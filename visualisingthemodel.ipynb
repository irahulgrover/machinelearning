{
 "cells": [
  {
   "cell_type": "code",
   "execution_count": 1,
   "id": "a61fe3d7-7537-47f7-8f28-99f37f6061b0",
   "metadata": {},
   "outputs": [],
   "source": [
    "import pandas as pd\n",
    "from sklearn.tree import DecisionTreeClassifier\n",
    "from sklearn import tree\n",
    "\n",
    "# Load the dataset\n",
    "music_data = pd.read_csv(\"music.csv\")\n",
    "\n",
    "# Split the dataset into features and target\n",
    "X = music_data.drop(columns=[\"genre\"])\n",
    "y = music_data[\"genre\"]\n",
    "\n",
    "model = DecisionTreeClassifier()\n",
    "model.fit(X, y)\n",
    "\n",
    "tree.export_graphviz(model, out_file= \"music-recommender.dot\", feature_names = [\"age\", \"gender\"], class_names = sorted(y.unique()), \n",
    "                     label = 'all', rounded= True,  filled = True)"
   ]
  },
  {
   "cell_type": "code",
   "execution_count": null,
   "id": "480766dd-9f26-4b38-96ac-e43d02464d72",
   "metadata": {},
   "outputs": [],
   "source": []
  }
 ],
 "metadata": {
  "kernelspec": {
   "display_name": "Python 3 (ipykernel)",
   "language": "python",
   "name": "python3"
  },
  "language_info": {
   "codemirror_mode": {
    "name": "ipython",
    "version": 3
   },
   "file_extension": ".py",
   "mimetype": "text/x-python",
   "name": "python",
   "nbconvert_exporter": "python",
   "pygments_lexer": "ipython3",
   "version": "3.12.4"
  }
 },
 "nbformat": 4,
 "nbformat_minor": 5
}
